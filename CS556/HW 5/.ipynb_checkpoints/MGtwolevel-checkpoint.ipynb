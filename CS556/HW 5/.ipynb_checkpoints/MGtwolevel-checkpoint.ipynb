{
 "cells": [
  {
   "cell_type": "code",
   "execution_count": 1,
   "metadata": {
    "collapsed": false
   },
   "outputs": [],
   "source": [
    "import scipy as sp\n",
    "import numpy as np\n",
    "import scipy.sparse as sparse\n",
    "import scipy.sparse.linalg as sla\n",
    "import matplotlib.pyplot as plt\n",
    "%matplotlib inline\n",
    "\n",
    "import stencil"
   ]
  },
  {
   "cell_type": "markdown",
   "metadata": {},
   "source": [
    "# Define the $h$-norm\n",
    "\n",
    "$$\n",
    "\\|r\\|_{h} = h \\|r\\|_{2}\n",
    "$$\n",
    "for any vector $r$"
   ]
  },
  {
   "cell_type": "code",
   "execution_count": 2,
   "metadata": {
    "collapsed": true
   },
   "outputs": [],
   "source": [
    "def hnorm(r):\n",
    "    \"\"\"define ||r||_h = h ||r||_2\"\"\"\n",
    "    n = len(r)\n",
    "    h = 1.0 / (n+1)\n",
    "    hrnorm = h * np.linalg.norm(r)\n",
    "    return hrnorm"
   ]
  },
  {
   "cell_type": "markdown",
   "metadata": {},
   "source": [
    "# Multigrid Operators\n",
    "\n",
    "Form relaxation, interpolation (based on 1D), and the matrix operator $A$."
   ]
  },
  {
   "cell_type": "code",
   "execution_count": 3,
   "metadata": {
    "collapsed": true
   },
   "outputs": [],
   "source": [
    "def relax(A, u, f, nu):\n",
    "    n = A.shape[0]\n",
    "    unew = u.copy()\n",
    "    DE = sparse.tril(A, 0).tocsc()\n",
    "    \n",
    "    for i in range(nu):\n",
    "        unew += sla.spsolve(DE, f - A * unew, permc_spec='NATURAL')\n",
    "\n",
    "    return unew\n",
    "\n",
    "def interpolation1d(nc, nf):\n",
    "    d = np.repeat([[1, 2, 1]], nc, axis=0).T\n",
    "    I = np.zeros((3,nc))\n",
    "    for i in range(nc):\n",
    "        I[:,i] = [2*i, 2*i+1, 2*i+2]\n",
    "    J = np.repeat([np.arange(nc)], 3, axis=0)\n",
    "    P = sparse.coo_matrix(\n",
    "        (d.ravel(), (I.ravel(), J.ravel()))\n",
    "        ).tocsr()\n",
    "    return 0.5 * P\n",
    "\n",
    "def create_operator(n, sten):\n",
    "    \"\"\"\n",
    "    Create a 2D operator from a stencil.\n",
    "    \"\"\"\n",
    "    A = stencil.stencil_grid(sten, (n, n), format='csr')\n",
    "    return A"
   ]
  },
  {
   "cell_type": "markdown",
   "metadata": {},
   "source": [
    "# Two-level Method\n",
    "\n",
    "An example two-level method:\n",
    "\n",
    "- pre-semooth\n",
    "- restrict\n",
    "- coarse solve\n",
    "- interpolate\n",
    "- post-smooth"
   ]
  },
  {
   "cell_type": "code",
   "execution_count": 4,
   "metadata": {
    "collapsed": true
   },
   "outputs": [],
   "source": [
    "def twolevel(A, P, A1, u0, f0, nu):\n",
    "    u0 = relax(A, u0, f0, nu) # pre-smooth\n",
    "    f1 = P.T * (f0 - A * u0)  # restrict\n",
    "\n",
    "    u1 = sla.spsolve(A1, f1)  # coarse solve\n",
    "\n",
    "    u0 = u0 + P * u1          # interpolate\n",
    "    u0 = relax(A, u0, f0, nu) # post-smooth\n",
    "    return u0"
   ]
  },
  {
   "cell_type": "markdown",
   "metadata": {},
   "source": [
    "# Test Problem\n",
    "\n",
    "This runs a problem with $f=0$."
   ]
  },
  {
   "cell_type": "code",
   "execution_count": 5,
   "metadata": {
    "collapsed": false
   },
   "outputs": [
    {
     "name": "stdout",
     "output_type": "stream",
     "text": [
      "[ 0.0123999   0.02235311  0.03052066  0.03552402  0.03866179  0.04172613\n",
      "  0.0434521   0.04500744  0.04607596  0.04685124]\n"
     ]
    }
   ],
   "source": [
    "# Problem setup\n",
    "k = 6\n",
    "n = 2**k - 1\n",
    "nc = 2**(k-1) - 1\n",
    "sten = np.array([[0, -1, 0], [-1, 4, -1], [0, -1, 0]])\n",
    "A = (n+1)**2 * create_operator(n, sten)\n",
    "f = np.zeros(n*n)\n",
    "u = np.random.rand(n*n)\n",
    "\n",
    "# Multigrid Setup\n",
    "P1d = interpolation1d(nc, n)\n",
    "P = sparse.kron(P1d, P1d).tocsr()\n",
    "A1 = P.T * A * P\n",
    "\n",
    "# Multigrid cycling\n",
    "res = [hnorm(f - A * u)]\n",
    "for i in range(10):\n",
    "    u = twolevel(A, P, A1, u, f, 2)\n",
    "    res.append(hnorm(f - A * u))\n",
    "\n",
    "# Look at the residuals\n",
    "res = np.array(res)\n",
    "print(res[1:] / res[:-1])"
   ]
  },
  {
   "cell_type": "code",
   "execution_count": null,
   "metadata": {
    "collapsed": true
   },
   "outputs": [],
   "source": []
  }
 ],
 "metadata": {
  "anaconda-cloud": {},
  "kernelspec": {
   "display_name": "Python [Root]",
   "language": "python",
   "name": "Python [Root]"
  },
  "language_info": {
   "codemirror_mode": {
    "name": "ipython",
    "version": 3
   },
   "file_extension": ".py",
   "mimetype": "text/x-python",
   "name": "python",
   "nbconvert_exporter": "python",
   "pygments_lexer": "ipython3",
   "version": "3.5.2"
  }
 },
 "nbformat": 4,
 "nbformat_minor": 0
}
