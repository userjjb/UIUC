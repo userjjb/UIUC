{
 "cells": [
  {
   "cell_type": "code",
   "execution_count": 71,
   "metadata": {
    "collapsed": true
   },
   "outputs": [],
   "source": [
    "import scipy as sp\n",
    "import numpy as np\n",
    "import scipy.sparse as sparse\n",
    "import scipy.sparse.linalg as sla\n",
    "import matplotlib.pyplot as plt\n",
    "%matplotlib inline"
   ]
  },
  {
   "cell_type": "markdown",
   "metadata": {},
   "source": [
    "# Define Operators\n",
    "\n",
    "Here we define the Poisson operator, the residual calculation (without building the matrix), relaxation, the restriction operation, and interpolation."
   ]
  },
  {
   "cell_type": "code",
   "execution_count": 63,
   "metadata": {
    "collapsed": true
   },
   "outputs": [],
   "source": [
    "def hnorm(r):\n",
    "    \"\"\"define ||r||_h = h ||r||_2\"\"\"\n",
    "    n = len(r)\n",
    "    h = 1.0 / (n+1)\n",
    "    hrnorm = h * np.linalg.norm(r)\n",
    "    return hrnorm\n",
    "\n",
    "def poissonop(n):\n",
    "    \"\"\"\n",
    "    Poisson operator h^{-2} * [-1 2 1]\n",
    "    \"\"\"\n",
    "    A = (n+1)**2 * sparse.diags([-1, 2, -1], [-1, 0, 1], shape=(n,n), format='csr')\n",
    "    return A\n",
    "\n",
    "def residual(u, f):\n",
    "    \"\"\"\n",
    "    f - A u\n",
    "    \"\"\"\n",
    "    n = len(f)\n",
    "    r = np.zeros(len(u))\n",
    "    r[1:-1] = f[1:-1] - ((n+1)**2) * (2 * u[1:-1] - u[2:] - u[:-2])\n",
    "    r[0]    = f[0]    - ((n+1)**2) * (2 * u[0]    - u[1])\n",
    "    r[-1]   = f[-1]   - ((n+1)**2) * (2 * u[-1]   - u[-2])\n",
    "    return r\n",
    "\n",
    "def relax(u, f, nu):\n",
    "    \"\"\"\n",
    "    Weighted Jacobi\n",
    "    \"\"\"\n",
    "    n = len(u)\n",
    "    Dinv = 1.0 / (2.0 * ((n+1)**2))\n",
    "    omega = 2.0 / 3.0\n",
    "    unew = u.copy()\n",
    "    \n",
    "    for steps in range(nu):\n",
    "        unew = unew + omega * Dinv * residual(unew, f)\n",
    "    \n",
    "    return unew\n",
    "\n",
    "def interpolate(uc):\n",
    "    \"\"\"interpolate u of size 2**(k-1)-1 to 2**(k)-1\"\"\"\n",
    "    uf = np.zeros((2*len(uc) + 1,))\n",
    "    uf[:-1:2] = 0.5 * uc\n",
    "    uf[1::2] = uc\n",
    "    uf[2::2] += 0.5 * uc\n",
    "    return uf\n",
    "\n",
    "def restrict(uf):\n",
    "    \"\"\"restrict u of size 2**(k)-1 to 2**(k-1)-1\"\"\"\n",
    "    uc = 0.25 * uf[:-1:2] + 0.5 * uf[1::2] + 0.25 * uf[2::2]\n",
    "    return uc"
   ]
  },
  {
   "cell_type": "markdown",
   "metadata": {},
   "source": [
    "# Define Cycles\n",
    "\n",
    "Here we define a number of different cycles.  A V-cycle down to $2^{kmin}-1$ (vcycle) and a two level cycle (vcycle2)."
   ]
  },
  {
   "cell_type": "code",
   "execution_count": 77,
   "metadata": {
    "collapsed": true
   },
   "outputs": [],
   "source": [
    "def vcycle(kmax, kmin, u, f, nu):\n",
    "    ulist = [None for k in range(kmax+1)]\n",
    "    flist = [None for k in range(kmax+1)]\n",
    "\n",
    "    print('grid: ', end=' ')\n",
    "    # down cycle\n",
    "    for k in range(kmax, kmin, -1):\n",
    "        print(k, end=' ')\n",
    "        u = relax(u, f, nu)\n",
    "        ulist[k] = u\n",
    "        flist[k] = f\n",
    "        \n",
    "        f = restrict(residual(u, f))\n",
    "        u = np.zeros(f.shape)\n",
    "        ulist[k-1] = u\n",
    "        flist[k-1] = f\n",
    "\n",
    "    # coarsest grid\n",
    "    print(kmin, end=' ')\n",
    "    Ac = poissonop(2**kmin - 1)\n",
    "    flist[kmin] = f\n",
    "    ulist[kmin] = sla.spsolve(Ac, f)\n",
    "\n",
    "    # up cycle\n",
    "    for k in range(kmin+1, kmax+1, 1):\n",
    "        print(k, end=' ')\n",
    "        u = ulist[k]\n",
    "        f = flist[k]\n",
    "        uc = ulist[k-1]\n",
    "        u += interpolate(uc)\n",
    "        u = relax(u, f, nu)\n",
    "    print('.')\n",
    "    return u\n",
    "\n",
    "def vcycle3(u, f, nu):\n",
    "    f0 = f.copy()\n",
    "    u0 = u.copy()\n",
    "    \n",
    "    u0 = relax(u0, f0, nu)\n",
    "    f1 = restrict(residual(u0, f0))\n",
    "    \n",
    "    u1 = relax(np.zeros(len(f1)), f1, nu)\n",
    "    f2 = restrict(residual(u1, f1))\n",
    "    \n",
    "    A2 = poissonop(len(f2))\n",
    "    u2 = sla.spsolve(A2, f2)\n",
    "    \n",
    "    u1 += interpolate(u2)\n",
    "    u1 = relax(u1, f1, 1)\n",
    "    \n",
    "    u0 += interpolate(u1)\n",
    "    u0 = relax(u0, f0, 1)\n",
    "    return u0\n",
    "\n",
    "def vcycle2(u0, f0, nu):\n",
    "    u0 = relax(u0, f0, nu)\n",
    "    f1 = restrict(residual(u0, f0))\n",
    "    u1 = sla.spsolve(poissonop(len(f1)), f1)    \n",
    "    ui = interpolate(u1)\n",
    "    u0 = u0 + ui\n",
    "    u0 = relax(u0, f0, nu)\n",
    "    return u0"
   ]
  },
  {
   "cell_type": "code",
   "execution_count": 98,
   "metadata": {
    "collapsed": false
   },
   "outputs": [
    {
     "name": "stdout",
     "output_type": "stream",
     "text": [
      "9.84950596997e-07\n",
      "grid:  7 6 5 4 3 2 3 4 5 6 7 .\n",
      "grid:  7 6 5 4 3 2 3 4 5 6 7 .\n",
      "grid:  7 6 5 4 3 2 3 4 5 6 7 .\n",
      "grid:  7 6 5 4 3 2 3 4 5 6 7 .\n",
      "grid:  7 6 5 4 3 2 3 4 5 6 7 .\n",
      "grid:  7 6 5 4 3 2 3 4 5 6 7 .\n",
      "grid:  7 6 5 4 3 2 3 4 5 6 7 .\n",
      "grid:  7 6 5 4 3 2 3 4 5 6 7 .\n",
      "grid:  7 6 5 4 3 2 3 4 5 6 7 .\n",
      "grid:  7 6 5 4 3 2 3 4 5 6 7 .\n",
      "grid:  7 6 5 4 3 2 3 4 5 6 7 .\n",
      "grid:  7 6 5 4 3 2 3 4 5 6 7 .\n",
      "[960.92331228182775, 14.060317037893531, 1.718429526034849, 0.2878574538675715, 0.051602477660101134, 0.0096244336254378629, 0.0018272633004643804, 0.00034882193866237794, 6.6517416427923544e-05, 1.2618917672456247e-05, 2.3754684477127443e-06, 4.43133598532541e-07, 8.1884895194158902e-08]\n"
     ]
    }
   ],
   "source": [
    "kmax = 7\n",
    "kmin = 2\n",
    "\n",
    "# set up fine problem\n",
    "n = 2**kmax - 1\n",
    "\n",
    "xx = np.linspace(0, 1, n+2)[1:-1]\n",
    "\n",
    "f = 2 - 12 * xx**2\n",
    "\n",
    "ustar = xx**4 - xx**2\n",
    "A = poissonop(len(f))\n",
    "udstar = sla.spsolve(A, f)\n",
    "print(hnorm(ustar - udstar))\n",
    "u = np.random.rand(len(f))\n",
    "\n",
    "# set up smoothing sweeps\n",
    "nu = 2\n",
    "\n",
    "res = []\n",
    "err = []\n",
    "\n",
    "res.append(hnorm(residual(u, f)))\n",
    "for i in range(12):\n",
    "    u = vcycle(kmax, kmin, u, f, nu)\n",
    "    #u = vcycle3(u, f, nu)\n",
    "    res.append(hnorm(residual(u, f)))\n",
    "    err.append(hnorm(u - ustar))\n",
    "print(res)"
   ]
  },
  {
   "cell_type": "markdown",
   "metadata": {},
   "source": [
    "# Plot the solution and approximate solution"
   ]
  },
  {
   "cell_type": "code",
   "execution_count": 94,
   "metadata": {
    "collapsed": false
   },
   "outputs": [
    {
     "data": {
      "text/plain": [
       "[<matplotlib.lines.Line2D at 0x1063b8208>]"
      ]
     },
     "execution_count": 94,
     "metadata": {},
     "output_type": "execute_result"
    },
    {
     "data": {
      "image/png": "[encoded data removed]",
      "text/plain": [
       "<matplotlib.figure.Figure at 0x1063b82e8>"
      ]
     },
     "metadata": {},
     "output_type": "display_data"
    }
   ],
   "source": [
    "plt.plot(u, 'g-', lw=3)\n",
    "plt.plot(ustar, 'bo', lw=3)"
   ]
  },
  {
   "cell_type": "markdown",
   "metadata": {},
   "source": [
    "# Output the residual convergence factors"
   ]
  },
  {
   "cell_type": "code",
   "execution_count": 100,
   "metadata": {
    "collapsed": false
   },
   "outputs": [
    {
     "name": "stdout",
     "output_type": "stream",
     "text": [
      "[ 0.01463209  0.12221841  0.16751193  0.179264    0.18651108  0.18985671\n",
      "  0.19089856  0.19069161  0.18970848  0.18824661  0.18654577  0.18478602]\n"
     ]
    }
   ],
   "source": [
    "res = np.array(res)\n",
    "print(res[1:] / res[:-1])"
   ]
  },
  {
   "cell_type": "markdown",
   "metadata": {},
   "source": [
    "# Output the residual and error"
   ]
  },
  {
   "cell_type": "code",
   "execution_count": 101,
   "metadata": {
    "collapsed": false
   },
   "outputs": [
    {
     "name": "stdout",
     "output_type": "stream",
     "text": [
      "residual: 9.60923e+02   error: 5.00817e-03\n",
      "residual: 1.40603e+01   error: 7.48589e-04\n",
      "residual: 1.71843e+00   error: 1.33400e-04\n",
      "residual: 2.87857e-01   error: 2.45121e-05\n",
      "residual: 5.16025e-02   error: 4.65917e-06\n",
      "residual: 9.62443e-03   error: 1.31668e-06\n",
      "residual: 1.82726e-03   error: 1.00290e-06\n",
      "residual: 3.48822e-04   error: 9.86396e-07\n",
      "residual: 6.65174e-05   error: 9.85139e-07\n",
      "residual: 1.26189e-05   error: 9.84981e-07\n",
      "residual: 2.37547e-06   error: 9.84956e-07\n",
      "residual: 4.43134e-07   error: 9.84951e-07\n"
     ]
    }
   ],
   "source": [
    "for r, e in zip(res, err):\n",
    "    print('residual: %5.5e   error: %5.5e' % (r, e))"
   ]
  }
 ],
 "metadata": {
  "kernelspec": {
   "display_name": "Python [Root]",
   "language": "python",
   "name": "Python [Root]"
  },
  "language_info": {
   "codemirror_mode": {
    "name": "ipython",
    "version": 3
   },
   "file_extension": ".py",
   "mimetype": "text/x-python",
   "name": "python",
   "nbconvert_exporter": "python",
   "pygments_lexer": "ipython3",
   "version": "3.5.2"
  }
 },
 "nbformat": 4,
 "nbformat_minor": 0
}
