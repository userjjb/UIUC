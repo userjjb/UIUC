{
 "cells": [
  {
   "cell_type": "code",
   "execution_count": 11,
   "metadata": {
    "collapsed": true
   },
   "outputs": [],
   "source": [
    "import scipy as sp\n",
    "import numpy as np\n",
    "import scipy.sparse as sparse\n",
    "import scipy.sparse.linalg as sla\n",
    "import matplotlib.pyplot as plt\n",
    "%matplotlib inline"
   ]
  },
  {
   "cell_type": "code",
   "execution_count": 12,
   "metadata": {
    "collapsed": true
   },
   "outputs": [],
   "source": [
    "def hnorm(r):\n",
    "    \"\"\"define ||r||_h = h ||r||_2\"\"\"\n",
    "    n = len(r)\n",
    "    h = 1.0 / (n+1)\n",
    "    hrnorm = h * np.linalg.norm(r)\n",
    "    return hrnorm\n",
    "\n",
    "def poissonop(n):\n",
    "    A = (n+1)**2 * sparse.diags([-1, 2, -1], [-1, 0, 1], shape=(n,n), format='csr')\n",
    "    return A\n",
    "\n",
    "def residual(u, f):\n",
    "    r = np.zeros(len(u))\n",
    "    r[1:-1] = f[1:-1] - (n+1)**2 * (2 * u[1:-1] - u[2:] - u[:-2])\n",
    "    r[0]    = f[0]    - (n+1)**2 * (2 * u[0]    - u[1])\n",
    "    r[-1]   = f[-1]   - (n+1)**2 * (2 * u[-1]   - u[-2])\n",
    "    return r\n",
    "\n",
    "def relax(u, f, nu):\n",
    "    n = len(u)\n",
    "    Dinv = 1.0 / (2.0 * (n+1)**2)\n",
    "    omega = 2.0 / 3.0\n",
    "    unew = u.copy()\n",
    "    \n",
    "    for steps in range(nu):\n",
    "        unew = unew + omega * Dinv * residual(unew, f)\n",
    "    \n",
    "    return unew\n",
    "\n",
    "def interpolate(uc):\n",
    "    \"\"\"interpolate u of size 2**(k-1)-1 to 2**(k)-1\"\"\"\n",
    "    uf = np.zeros((2*len(uc) + 1,))\n",
    "    uf[:-1:2] = 0.5 * uc\n",
    "    uf[1::2] = uc\n",
    "    uf[2::2] += 0.5 * uc\n",
    "    return uf\n",
    "\n",
    "def restrict(uf):\n",
    "    \"\"\"restrict u of size 2**(k)-1 to 2**(k-1)-1\"\"\"\n",
    "    uc = 0.25 * uf[:-1:2] + 0.5 * uf[1::2] + 0.25 * uf[2::2]\n",
    "    return uc"
   ]
  },
  {
   "cell_type": "code",
   "execution_count": 19,
   "metadata": {
    "collapsed": true
   },
   "outputs": [],
   "source": [
    "def vcycle(u, f, nu):\n",
    "    n = len(u)\n",
    "    \n",
    "    if n == 1:\n",
    "        u = 0.125 * f\n",
    "    elif n > 1:\n",
    "        u = relax(u, f, nu)\n",
    "        r = residual(u, f)\n",
    "        rc = restrict(r)\n",
    "        uc = np.zeros(rc.shape)\n",
    "        \n",
    "        #uc = vcycle(uc, rc, nu)\n",
    "        Ac = poissonop(len(uc))\n",
    "        uc = sparse.linalg.spsolve(Ac, rc)\n",
    "        \n",
    "        e = interpolate(uc)\n",
    "        u = u + e        \n",
    "        u = relax(u, f, nu)\n",
    "      \n",
    "    return u"
   ]
  },
  {
   "cell_type": "code",
   "execution_count": 22,
   "metadata": {
    "collapsed": false
   },
   "outputs": [
    {
     "name": "stdout",
     "output_type": "stream",
     "text": [
      "364.51259364\n",
      "res = 2.3458e+01, total err = 5.0219e-03  alg err = 5.0202e-03\n",
      "res = 2.6065e+00, total err = 5.5957e-04  alg err = 5.5780e-04\n",
      "res = 2.8961e-01, total err = 6.3942e-05  alg err = 6.1977e-05\n",
      "res = 3.2178e-02, total err = 1.0124e-05  alg err = 6.8864e-06\n",
      "res = 3.5754e-03, total err = 5.8566e-06  alg err = 7.6515e-07\n",
      "res = 3.9726e-04, total err = 5.5989e-06  alg err = 8.5017e-08\n",
      "res = 4.4141e-05, total err = 5.5747e-06  alg err = 9.4463e-09\n",
      "res = 4.9045e-06, total err = 5.5721e-06  alg err = 1.0496e-09\n",
      "res = 5.4494e-07, total err = 5.5718e-06  alg err = 1.1662e-10\n",
      "res = 6.0549e-08, total err = 5.5717e-06  alg err = 1.2958e-11\n",
      "res = 6.7277e-09, total err = 5.5717e-06  alg err = 1.4397e-12\n",
      "res = 7.4753e-10, total err = 5.5717e-06  alg err = 1.5993e-13\n",
      "res = 8.3059e-11, total err = 5.5717e-06  alg err = 1.7775e-14\n",
      "res = 9.2311e-12, total err = 5.5717e-06  alg err = 1.9492e-15\n",
      "res = 1.0274e-12, total err = 5.5717e-06  alg err = 2.2424e-16\n",
      "res = 1.1523e-13, total err = 5.5717e-06  alg err = 1.3085e-16\n",
      "res = 1.4200e-14, total err = 5.5717e-06  alg err = 8.6159e-17\n",
      "res = 1.0089e-14, total err = 5.5717e-06  alg err = 9.0040e-17\n",
      "res = 3.8241e-15, total err = 5.5717e-06  alg err = 1.1134e-16\n",
      "res = 3.4694e-18, total err = 5.5717e-06  alg err = 1.1319e-16\n",
      "res = 0.0000e+00, total err = 5.5717e-06  alg err = 1.1319e-16\n",
      "res = 0.0000e+00, total err = 5.5717e-06  alg err = 1.1319e-16\n",
      "res = 0.0000e+00, total err = 5.5717e-06  alg err = 1.1319e-16\n",
      "res = 0.0000e+00, total err = 5.5717e-06  alg err = 1.1319e-16\n",
      "res = 0.0000e+00, total err = 5.5717e-06  alg err = 1.1319e-16\n"
     ]
    }
   ],
   "source": [
    "k = 6\n",
    "n = 2**k - 1\n",
    "xx = np.linspace(0,1,n+2)[1:-1]\n",
    "\n",
    "f = 2 - 12 * xx**2\n",
    "ustar = xx**4 - xx**2\n",
    "\n",
    "#f = np.pi**2 * np.sin(np.pi * xx)\n",
    "#ustar = np.sin(np.pi * xx)\n",
    "u = np.random.rand(len(f))\n",
    "\n",
    "A = poissonop(n)\n",
    "udiscretestar = sla.spsolve(A, f)\n",
    "\n",
    "print(hnorm(residual(u, f)))\n",
    "\n",
    "for i in range(25):\n",
    "    u = vcycle(u, f, 1)\n",
    "    res = hnorm(residual(u, f))\n",
    "    err = hnorm(ustar - u)\n",
    "    aerr = hnorm(udiscretestar - u)\n",
    "    print(\"res = %10.4e, total err = %10.4e  alg err = %10.4e\" % (res, err, aerr))"
   ]
  },
  {
   "cell_type": "code",
   "execution_count": null,
   "metadata": {
    "collapsed": true
   },
   "outputs": [],
   "source": []
  }
 ],
 "metadata": {
  "kernelspec": {
   "display_name": "Python [Root]",
   "language": "python",
   "name": "Python [Root]"
  },
  "language_info": {
   "codemirror_mode": {
    "name": "ipython",
    "version": 3
   },
   "file_extension": ".py",
   "mimetype": "text/x-python",
   "name": "python",
   "nbconvert_exporter": "python",
   "pygments_lexer": "ipython3",
   "version": "3.5.2"
  }
 },
 "nbformat": 4,
 "nbformat_minor": 0
}
