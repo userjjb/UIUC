{
 "cells": [
  {
   "cell_type": "code",
   "execution_count": 2,
   "metadata": {
    "collapsed": false
   },
   "outputs": [],
   "source": [
    "import numpy as np\n",
    "from scipy import sparse\n",
    "import matplotlib.pyplot as plt\n",
    "import scipy.linalg as sla\n",
    "%matplotlib inline\n",
    "\n",
    "from arnoldi import arnoldi"
   ]
  },
  {
   "cell_type": "code",
   "execution_count": 3,
   "metadata": {
    "collapsed": false
   },
   "outputs": [
    {
     "name": "stdout",
     "output_type": "stream",
     "text": [
      "[[ 2 -1  0  0]\n",
      " [-1  2 -1  0]\n",
      " [ 0 -1  2 -1]\n",
      " [ 0  0 -1  2]]\n"
     ]
    }
   ],
   "source": [
    "A = sla.toeplitz([2, -1, 0, 0])\n",
    "print(A)"
   ]
  },
  {
   "cell_type": "code",
   "execution_count": 4,
   "metadata": {
    "collapsed": false
   },
   "outputs": [],
   "source": [
    "#r0 = np.ones((4,))\n",
    "r0 = np.random.rand(4)\n",
    "V, H = arnoldi(A, 3, v0=r0)"
   ]
  },
  {
   "cell_type": "code",
   "execution_count": 5,
   "metadata": {
    "collapsed": false
   },
   "outputs": [
    {
     "name": "stdout",
     "output_type": "stream",
     "text": [
      "[[ 0.45373122  0.48435014  0.26417373]\n",
      " [ 0.40836106 -0.85448227  0.0156844 ]\n",
      " [ 0.6263504   0.07197178  0.45609241]\n",
      " [ 0.48482409  0.17345043 -0.84967403]]\n",
      "[[  5.10533925e-01   5.52195993e-01   8.88178420e-16]\n",
      " [  5.52195993e-01   2.92576737e+00   5.88772201e-01]\n",
      " [  0.00000000e+00   5.88772201e-01   2.75246586e+00]]\n"
     ]
    }
   ],
   "source": [
    "print(V)\n",
    "print(H)"
   ]
  },
  {
   "cell_type": "code",
   "execution_count": 6,
   "metadata": {
    "collapsed": false
   },
   "outputs": [
    {
     "name": "stdout",
     "output_type": "stream",
     "text": [
      "[ 0.38328065  2.31061434  3.49487217]\n",
      "[ 0.38196601  1.38196601  2.61803399  3.61803399]\n"
     ]
    }
   ],
   "source": [
    "print(np.sort(sla.eigvals(H).real))\n",
    "print(np.sort(sla.eigvals(A).real))"
   ]
  },
  {
   "cell_type": "code",
   "execution_count": null,
   "metadata": {
    "collapsed": true
   },
   "outputs": [],
   "source": []
  }
 ],
 "metadata": {
  "kernelspec": {
   "display_name": "Python [Root]",
   "language": "python",
   "name": "Python [Root]"
  },
  "language_info": {
   "codemirror_mode": {
    "name": "ipython",
    "version": 3
   },
   "file_extension": ".py",
   "mimetype": "text/x-python",
   "name": "python",
   "nbconvert_exporter": "python",
   "pygments_lexer": "ipython3",
   "version": "3.5.2"
  }
 },
 "nbformat": 4,
 "nbformat_minor": 0
}
