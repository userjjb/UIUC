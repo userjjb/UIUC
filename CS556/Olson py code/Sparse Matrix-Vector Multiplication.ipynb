{
 "cells": [
  {
   "cell_type": "code",
   "execution_count": 25,
   "metadata": {
    "collapsed": false
   },
   "outputs": [],
   "source": [
    "import numpy as np\n",
    "import scipy as sp\n",
    "import scipy.linalg as la\n",
    "import matplotlib.pyplot as plt\n",
    "import random_sparse_mat_generator as r"
   ]
  },
  {
   "cell_type": "code",
   "execution_count": 28,
   "metadata": {
    "collapsed": false
   },
   "outputs": [
    {
     "name": "stdout",
     "output_type": "stream",
     "text": [
      "[[ 1.   0.   2. ]\n",
      " [ 0.   3.   0. ]\n",
      " [ 0.   4.4  0. ]]\n",
      "float64 (5,)\n",
      "int32 (5,)\n",
      "int32 (5,)\n",
      "5\n",
      "csr\n",
      "[[ 0.          0.          0.          0.          0.          0.        ]\n",
      " [ 0.          0.          0.          0.          0.          0.        ]\n",
      " [ 0.          0.          0.          0.          0.          0.        ]\n",
      " [ 0.          0.          0.          0.          0.          0.        ]\n",
      " [ 0.          0.91881268  0.          0.16751778  0.          0.        ]\n",
      " [ 0.          0.          0.          0.          0.          0.1305133 ]]\n"
     ]
    }
   ],
   "source": [
    "data = [1.0, 1.0, 1.0, 3.0, 4.4]\n",
    "col = [0, 2, 2, 1, 1]\n",
    "row = [0, 0, 0, 1, 2]\n",
    "A = sparse.coo_matrix((data, (row, col)), shape=(3,3))\n",
    "print(A.todense())\n",
    "print(A.data.dtype, A.data.shape)\n",
    "print(A.col.dtype, A.col.shape)\n",
    "print(A.row.dtype, A.row.shape)\n",
    "print(A.nnz)\n",
    "B = r.sprand(6, 6, 0.1)\n",
    "print(B.format)\n",
    "print(B.todense())"
   ]
  },
  {
   "cell_type": "code",
   "execution_count": 18,
   "metadata": {
    "collapsed": false
   },
   "outputs": [
    {
     "name": "stdout",
     "output_type": "stream",
     "text": [
      "coo\n",
      "csr\n",
      "[ 1.   2.   3.   4.4]\n",
      "[0 2 1 1]\n",
      "[0 2 3 4]\n",
      "[[ 1.   0.   2. ]\n",
      " [ 0.   3.   0. ]\n",
      " [ 0.   4.4  0. ]]\n",
      "4\n",
      "4\n"
     ]
    }
   ],
   "source": [
    "print(A.format)\n",
    "A = A.tocsr()\n",
    "print(A.format)\n",
    "print(A.data)\n",
    "print(A.indices)\n",
    "print(A.indptr)\n",
    "print(A.todense())\n",
    "print(A.nnz)\n",
    "A.eliminate_zeros()\n",
    "print(A.nnz)"
   ]
  },
  {
   "cell_type": "markdown",
   "metadata": {},
   "source": [
    "Let's make a *random* sparse matrix\n",
    "\n",
    "First we'll set the density so that\n",
    "$$\n",
    "density = \\frac{nnz(A)}{n^2}\n",
    "$$"
   ]
  },
  {
   "cell_type": "code",
   "execution_count": 4,
   "metadata": {
    "collapsed": false
   },
   "outputs": [
    {
     "name": "stdout",
     "output_type": "stream",
     "text": [
      "5000\n"
     ]
    }
   ],
   "source": [
    "n = 1000\n",
    "density = 5.0 / n # 5 points per row\n",
    "nnz = int(n*n*density)\n",
    "print(nnz)"
   ]
  },
  {
   "cell_type": "markdown",
   "metadata": {},
   "source": [
    "Now make the entries:"
   ]
  },
  {
   "cell_type": "code",
   "execution_count": 5,
   "metadata": {
    "collapsed": false
   },
   "outputs": [
    {
     "name": "stdout",
     "output_type": "stream",
     "text": [
      "float64\n"
     ]
    },
    {
     "name": "stderr",
     "output_type": "stream",
     "text": [
      "C:\\Users\\Root\\Anaconda3\\lib\\site-packages\\ipykernel\\__main__.py:1: DeprecationWarning: This function is deprecated. Please call randint(0, 999 + 1) instead\n",
      "  if __name__ == '__main__':\n",
      "C:\\Users\\Root\\Anaconda3\\lib\\site-packages\\ipykernel\\__main__.py:2: DeprecationWarning: This function is deprecated. Please call randint(0, 999 + 1) instead\n",
      "  from ipykernel import kernelapp as app\n"
     ]
    }
   ],
   "source": [
    "row = np.random.random_integers(low=0, high=n-1, size=nnz)\n",
    "col = np.random.random_integers(low=0, high=n-1, size=nnz)\n",
    "data = np.ones(nnz, dtype=float)\n",
    "\n",
    "A = sparse.coo_matrix((data, (row, col)), shape=(n, n))\n",
    "print(A.dtype)"
   ]
  },
  {
   "cell_type": "code",
   "execution_count": 6,
   "metadata": {
    "collapsed": false
   },
   "outputs": [
    {
     "data": {
      "text/plain": [
       "<matplotlib.lines.Line2D at 0x777a0f0>"
      ]
     },
     "execution_count": 6,
     "metadata": {},
     "output_type": "execute_result"
    },
    {
     "data": {
      "image/png": "[encoded data removed]",
      "text/plain": [
       "<matplotlib.figure.Figure at 0x5194d30>"
      ]
     },
     "metadata": {},
     "output_type": "display_data"
    }
   ],
   "source": [
    "import matplotlib.pyplot as plt\n",
    "%matplotlib inline\n",
    "plt.spy(A, marker='.', markersize=2)"
   ]
  },
  {
   "cell_type": "code",
   "execution_count": 7,
   "metadata": {
    "collapsed": false
   },
   "outputs": [
    {
     "name": "stdout",
     "output_type": "stream",
     "text": [
      "(1000, 1000) 5000\n"
     ]
    }
   ],
   "source": [
    "print(A.shape, A.nnz)"
   ]
  },
  {
   "cell_type": "markdown",
   "metadata": {},
   "source": [
    "But let's make it positive definite:"
   ]
  },
  {
   "cell_type": "code",
   "execution_count": 8,
   "metadata": {
    "collapsed": false
   },
   "outputs": [],
   "source": [
    "A.data[:] = -1.0                   # -1 for off-diagonals\n",
    "rowsum = -np.array(A.sum(axis=1))  # positive rowsum\n",
    "rowsum = rowsum.ravel()\n",
    "A.setdiag(rowsum)"
   ]
  },
  {
   "cell_type": "code",
   "execution_count": 9,
   "metadata": {
    "collapsed": true
   },
   "outputs": [],
   "source": [
    "u = np.random.rand(n)\n",
    "v = np.random.rand(n)"
   ]
  },
  {
   "cell_type": "code",
   "execution_count": 10,
   "metadata": {
    "collapsed": false
   },
   "outputs": [
    {
     "name": "stdout",
     "output_type": "stream",
     "text": [
      "The slowest run took 10.79 times longer than the fastest. This could mean that an intermediate result is being cached.\n",
      "100000 loops, best of 3: 13.7 µs per loop\n"
     ]
    }
   ],
   "source": [
    "%timeit v = A * u"
   ]
  },
  {
   "cell_type": "code",
   "execution_count": 14,
   "metadata": {
    "collapsed": true
   },
   "outputs": [],
   "source": [
    "B = A.toarray()"
   ]
  },
  {
   "cell_type": "code",
   "execution_count": 15,
   "metadata": {
    "collapsed": false
   },
   "outputs": [
    {
     "data": {
      "text/plain": [
       "numpy.ndarray"
      ]
     },
     "execution_count": 15,
     "metadata": {},
     "output_type": "execute_result"
    }
   ],
   "source": [
    "type(B)"
   ]
  },
  {
   "cell_type": "code",
   "execution_count": 13,
   "metadata": {
    "collapsed": false
   },
   "outputs": [
    {
     "name": "stdout",
     "output_type": "stream",
     "text": [
      "The slowest run took 25.23 times longer than the fastest. This could mean that an intermediate result is being cached.\n",
      "10000 loops, best of 3: 118 µs per loop\n"
     ]
    }
   ],
   "source": [
    "%timeit v = B.dot(u)"
   ]
  },
  {
   "cell_type": "code",
   "execution_count": null,
   "metadata": {
    "collapsed": true
   },
   "outputs": [],
   "source": []
  }
 ],
 "metadata": {
  "anaconda-cloud": {},
  "kernelspec": {
   "display_name": "Python [Root]",
   "language": "python",
   "name": "Python [Root]"
  },
  "language_info": {
   "codemirror_mode": {
    "name": "ipython",
    "version": 3
   },
   "file_extension": ".py",
   "mimetype": "text/x-python",
   "name": "python",
   "nbconvert_exporter": "python",
   "pygments_lexer": "ipython3",
   "version": "3.5.2"
  }
 },
 "nbformat": 4,
 "nbformat_minor": 0
}
