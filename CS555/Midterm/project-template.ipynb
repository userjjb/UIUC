{
 "cells": [
  {
   "cell_type": "markdown",
   "metadata": {},
   "source": [
    "Imports\n",
    "---\n",
    "\n",
    "You will need a few non-standard files:\n",
    "\n",
    "- `mesh_neu.py` reads in a mesh into `V` and `E`\n",
    "- `trimesh.py` will plot a mesh with `V` and `E`\n",
    "- `vtk_writer.py` will write to a `.vtu` file with cell data"
   ]
  },
  {
   "cell_type": "code",
   "execution_count": 1,
   "metadata": {
    "collapsed": false
   },
   "outputs": [],
   "source": [
    "import mesh_neu\n",
    "import trimesh\n",
    "import numpy as np\n",
    "import matplotlib.pyplot as plt\n",
    "import scipy.sparse as sparse\n",
    "import vtk_writer\n",
    "import refine_mesh\n",
    "%matplotlib inline"
   ]
  },
  {
   "cell_type": "markdown",
   "metadata": {},
   "source": [
    "(1) Check the orientation and read the mesh\n",
    "---\n",
    "\n",
    "First we'll write a function so that for *each* cell consider a matrix \n",
    "$$\n",
    "\\left|\n",
    "\\begin{array}{3}\n",
    "1 & x_0 & y_0\\\\\n",
    "1 & x_1 & y_1\\\\\n",
    "1 & x_2 & y_2\n",
    "\\end{array}\n",
    "\\right|\n",
    "$$\n",
    "which will give the orientation of a cell"
   ]
  },
  {
   "cell_type": "code",
   "execution_count": 2,
   "metadata": {
    "collapsed": false
   },
   "outputs": [],
   "source": [
    "def checkorientation(V, E):\n",
    "    sgn = np.zeros((E.shape[0],))\n",
    "    \n",
    "    for i in range(E.shape[0]):\n",
    "        xi = V[E[i, :],0]\n",
    "        yi = V[E[i, :],1]\n",
    "        A = np.zeros((3,3))\n",
    "        A[:,0] = 1.0\n",
    "        A[:,1] = xi\n",
    "        A[:,2] = yi\n",
    "        \n",
    "        sgn[i] = np.linalg.det(A)\n",
    "    return sgn"
   ]
  },
  {
   "cell_type": "markdown",
   "metadata": {},
   "source": [
    "Next read both `V` and `E`.  Then check the oreintation and swap two column if the orientation is negative (clockwise). (*note*: the meshes are already oriented.  this is more for completeness)"
   ]
  },
  {
   "cell_type": "code",
   "execution_count": 3,
   "metadata": {
    "collapsed": false,
    "scrolled": false
   },
   "outputs": [],
   "source": [
    "# read mesh\n",
    "V, E = mesh_neu.read_neu('square2.neu')\n",
    "\n",
    "# refine mesh\n",
    "#V, E = refine_mesh.refine2dtri(V, E)\n",
    "\n",
    "sgn = checkorientation(V, E)\n",
    "I = np.where(sgn<0)[0]\n",
    "E1 = E[I,1]\n",
    "E2 = E[I,2]\n",
    "E[I,2] = E1\n",
    "E[I,1] = E2"
   ]
  },
  {
   "cell_type": "markdown",
   "metadata": {},
   "source": [
    "Now set the mesh elements.  So `ne` is the number of elements and `nv` is the number of vertices.  `X` are the $x$-values and `Y` are $y$-values."
   ]
  },
  {
   "cell_type": "code",
   "execution_count": 4,
   "metadata": {
    "collapsed": false
   },
   "outputs": [],
   "source": [
    "ne = E.shape[0]\n",
    "nv = V.shape[0]\n",
    "X = V[:,0]\n",
    "Y = V[:,1]"
   ]
  },
  {
   "cell_type": "markdown",
   "metadata": {},
   "source": [
    "(2) Set up the arrays\n",
    "---\n",
    "\n",
    "You'll need a few arrays.  The first are the normal vectors *per element*:\n",
    "\n",
    "- `nx` is $3\\times$`ne` and is the $x$-component of the normal for each edge\n",
    "- `ny` is $3\\times$`ne` and is the $y$-component of the normal for each edge\n",
    "\n",
    "You'll also need the height of the triangle, *per edge* which is defined as `h`, which is $3\\times$`ne`.\n",
    "\n",
    "Then you'll need the centers of the elements:\n",
    "\n",
    "- `cx` is `ne`$\\times 1$ and is $x$-coordinate of each element\n",
    "- `cy` is `ne`$\\times 1$ and is $y$-coordinate of each element"
   ]
  },
  {
   "cell_type": "code",
   "execution_count": 6,
   "metadata": {
    "collapsed": false
   },
   "outputs": [],
   "source": [
    "# TODO: create arrays\n",
    "nx =  np.zeros((3,ne))\n",
    "ny =  np.zeros((3,ne))\n",
    "h =   np.zeros((3,ne))\n",
    "cx =  np.zeros(ne)\n",
    "cy =  np.zeros(ne)"
   ]
  },
  {
   "cell_type": "markdown",
   "metadata": {},
   "source": [
    "For each element this loop will\n",
    "\n",
    "- set the coordinates `xi` and `yi`\n",
    "- set the centers\n",
    "- determine the edgelengths\n",
    "- compute the area\n",
    "- set the `nx`, `ny`, and `h` values for each edge `0`, `1`, and `2` of the current element\n",
    "\n",
    "Then the normal vectors are normalized."
   ]
  },
  {
   "cell_type": "code",
   "execution_count": null,
   "metadata": {
    "collapsed": false
   },
   "outputs": [],
   "source": [
    "for i in range(ne):\n",
    "    # TODO: set array values\n",
    "    # (for cell i, set nx, ny, cx, cy, and h)\n",
    "    nx = \n",
    "    \n",
    "# normalize\n",
    "nlength = np.sqrt(nx**2 + ny**2)\n",
    "nx = nx / nlength\n",
    "ny = ny / nlength\n",
    "\n",
    "# more metrics\n",
    "hinv = 1.0 / h"
   ]
  },
  {
   "cell_type": "markdown",
   "metadata": {},
   "source": [
    "(3) Construct Element Relationships\n",
    "---\n",
    "\n",
    "This step will construct (as in class):\n",
    "\n",
    "- `E2E`: a list of element-to-element connections\n",
    "- `V2V`: a list of vertex-to-vertex connections"
   ]
  },
  {
   "cell_type": "code",
   "execution_count": null,
   "metadata": {
    "collapsed": false
   },
   "outputs": [],
   "source": [
    "# construct vertex to vertex graph\n",
    "ID = np.kron(np.arange(0, ne), np.ones((3,)))\n",
    "G = sparse.coo_matrix((np.ones((ne*3,)), (E.ravel(), ID,)))\n",
    "E2E = G.T * G\n",
    "V2V = G * G.T"
   ]
  },
  {
   "cell_type": "markdown",
   "metadata": {},
   "source": [
    "Now a neiborhood list is constructed.  For each element in `E`, the vertices of each neighboring element (from `E2E`) are checked for maching vertices.  Each face will have a neighboring element.  Boundary faces will retain a `-1`."
   ]
  },
  {
   "cell_type": "code",
   "execution_count": null,
   "metadata": {
    "collapsed": true
   },
   "outputs": [],
   "source": [
    "Enbrs = -np.ones((ne,3), dtype=int)\n",
    "for i in range(ne):\n",
    "    vi = E[i, :]\n",
    "    \n",
    "    nbrids = np.where(E2E[i, :].data == 2)[0]\n",
    "    nbrs = E2E[i, :].indices[nbrids]\n",
    "\n",
    "    # for each nbr, find the face it goes with\n",
    "    for j in nbrs:\n",
    "        vj = E[j, :]\n",
    "        \n",
    "        # edge 0\n",
    "        if (vi[0] in vj) and (vi[1] in vj):\n",
    "            Enbrs[i, 0] = j\n",
    "        # edge 1\n",
    "        if (vi[1] in vj) and (vi[2] in vj):\n",
    "            Enbrs[i, 1] = j\n",
    "        # edge 2\n",
    "        if (vi[2] in vj) and (vi[0] in vj):\n",
    "            Enbrs[i, 2] = j"
   ]
  },
  {
   "cell_type": "markdown",
   "metadata": {},
   "source": [
    "(4) Set initial Values\n",
    "---\n",
    "\n",
    "Here you set the inital values for $u$, $v$, and $p$."
   ]
  },
  {
   "cell_type": "code",
   "execution_count": null,
   "metadata": {
    "collapsed": false
   },
   "outputs": [],
   "source": [
    "# TODO: set initial values\n",
    "u = \n",
    "v = \n",
    "p = "
   ]
  },
  {
   "cell_type": "markdown",
   "metadata": {},
   "source": [
    "You can write out the inital value as `output.vtu` in the following call.  Then you can verify the initial condition in Paraview."
   ]
  },
  {
   "cell_type": "code",
   "execution_count": null,
   "metadata": {
    "collapsed": true
   },
   "outputs": [],
   "source": [
    "p[np.where(np.abs(p)<1e-15)[0]] = 0.0  # trim small values for Paraview\n",
    "vtk_writer.write_basic_mesh(V, E, cdata=p, mesh_type='tri')"
   ]
  },
  {
   "cell_type": "markdown",
   "metadata": {},
   "source": [
    "(5) Set up \"right\" elements and \"left\" elements.\n",
    "---\n",
    "\n",
    "In this step we're going to set up a list of \"this\" elements, called `mapL`.  These will be the element where you'll compute on.  Then you'll need a list of neighboring elements, called `mapR`.\n",
    "\n",
    "Also, set a list of boundary elements in `mapB`."
   ]
  },
  {
   "cell_type": "code",
   "execution_count": null,
   "metadata": {
    "collapsed": false
   },
   "outputs": [],
   "source": [
    "mapR = Enbrs.T\n",
    "\n",
    "# find boundary elements and set mapR\n",
    "ids = np.where(mapR.ravel()==-1)[0]\n",
    "r, c = np.where(mapR==-1)\n",
    "mapR = mapR.ravel()\n",
    "mapR[ids] = c\n",
    "mapR = mapR.reshape((3,ne))\n",
    "\n",
    "# set boundary\n",
    "mapB = ids.copy()\n",
    "vmapB = c\n",
    "\n",
    "# set mapL to be \"this\"\n",
    "mapL = np.outer(np.ones((3,), dtype=int), np.arange(0,ne, dtype=int))"
   ]
  },
  {
   "cell_type": "markdown",
   "metadata": {},
   "source": [
    "(6) Time Step\n",
    "---\n",
    "\n",
    "Here you will time step according to the notes."
   ]
  },
  {
   "cell_type": "code",
   "execution_count": null,
   "metadata": {
    "collapsed": false,
    "scrolled": true
   },
   "outputs": [],
   "source": [
    "# set the time step\n",
    "dt = 0.25 * h.min()\n",
    "t = 0\n",
    "\n",
    "# set the number of time steps\n",
    "nstep=1000\n",
    "\n",
    "for tstep in range(nstep):\n",
    "    \n",
    "    print(\"tstep %d of %d\" % (tstep,nstep))\n",
    "    uL = u[mapL]\n",
    "    uR = u[mapR]\n",
    "    vL = v[mapL]\n",
    "    vR = v[mapR]\n",
    "    pL = p[mapL]\n",
    "    pR = p[mapR]\n",
    "    \n",
    "    # set the boundary conditions\n",
    "    shp = uR.shape\n",
    "    uR = uR.ravel()\n",
    "    uR[mapB] = -uL.ravel()[mapB]\n",
    "    uR = uR.reshape(shp)\n",
    "    \n",
    "    vR = vR.ravel()\n",
    "    vR[mapB] = -vL.ravel()[mapB]\n",
    "    vR = vR.reshape(shp)\n",
    "    \n",
    "    pR = pR.ravel()\n",
    "    pR[mapB] = pL.ravel()[mapB]\n",
    "    pR = pR.reshape(shp)\n",
    "    \n",
    "    # TODO: set the flux\n",
    "\n",
    "    \n",
    "    # TODO: set the update\n",
    "    u = u + dt* # SUM OVER EDGES flux / h\n",
    "    v = v + dt* # SUM OVER EDGES flux / h\n",
    "    p = p + dt* # SUM OVER EDGES flux / h\n",
    "    \n",
    "    if (tstep % 10) == 0:\n",
    "        p[np.where(np.abs(p)<1e-15)[0]] = 0.0\n",
    "        vtk_writer.write_basic_mesh(V, E, cdata=p, mesh_type='tri', fname='p%04d.vtu'%(tstep,))\n",
    "    \n",
    "    t = t+dt"
   ]
  },
  {
   "cell_type": "code",
   "execution_count": null,
   "metadata": {
    "collapsed": true
   },
   "outputs": [],
   "source": [
    "# TODO: plots"
   ]
  }
 ],
 "metadata": {
  "anaconda-cloud": {},
  "kernelspec": {
   "display_name": "Python [Root]",
   "language": "python",
   "name": "Python [Root]"
  },
  "language_info": {
   "codemirror_mode": {
    "name": "ipython",
    "version": 3
   },
   "file_extension": ".py",
   "mimetype": "text/x-python",
   "name": "python",
   "nbconvert_exporter": "python",
   "pygments_lexer": "ipython3",
   "version": "3.5.2"
  }
 },
 "nbformat": 4,
 "nbformat_minor": 0
}
